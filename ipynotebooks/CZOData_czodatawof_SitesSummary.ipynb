{
 "metadata": {
  "name": "",
  "signature": "sha256:83bb83c8668a7ae1068715c41402c6ffdc23a3ac9ab4f7dc4ad5118d486f0a0d"
 },
 "nbformat": 3,
 "nbformat_minor": 0,
 "worksheets": [
  {
   "cells": [
    {
     "cell_type": "markdown",
     "metadata": {},
     "source": [
      "# CZOData WOF services: Cross-service summary of Sites and related attributes\n",
      "Updated 11/26-24/2014. Emilio Mayorga"
     ]
    },
    {
     "cell_type": "code",
     "collapsed": false,
     "input": [
      "import pandas as pd\n",
      "import ulmo"
     ],
     "language": "python",
     "metadata": {},
     "outputs": [],
     "prompt_number": 1
    },
    {
     "cell_type": "code",
     "collapsed": false,
     "input": [
      "wsdlurl_tmplt = \"http://water.sdsc.edu/%s/cuahsi_1_1.asmx?WSDL\""
     ],
     "language": "python",
     "metadata": {},
     "outputs": [],
     "prompt_number": 2
    },
    {
     "cell_type": "code",
     "collapsed": false,
     "input": [
      "# These 4 services for the new CZO's are not actually active: 'czo_calhoun', 'czo_eel', 'czo_iml', 'czo_reynolds'\n",
      "# czo_ariz and czo_catalina are both from the same CZO (Catalina-Jemez)?!\n",
      "# But it looks like czo_ariz is broken anyway; see results below\n",
      "czodata_wofwsdl_cd_lst = ['czo_merced', 'czo_psu', 'czo_udel', 'czo_ariz', 'czo_boulder', 'czo_catalina', 'czo_luquillo',\n",
      "                          'czo_calhoun', 'czo_eel', 'czo_iml', 'czo_reynolds']"
     ],
     "language": "python",
     "metadata": {},
     "outputs": [],
     "prompt_number": 3
    },
    {
     "cell_type": "markdown",
     "metadata": {},
     "source": [
      "### Query WOF sites, compile responses, and provide first high-level summary"
     ]
    },
    {
     "cell_type": "code",
     "collapsed": false,
     "input": [
      "def get_sites_info_test(czocd, sitecd=None):\n",
      "    try:\n",
      "        wsdlurl = wsdlurl_tmplt % czocd\n",
      "        if sitecd is None:\n",
      "            response = ulmo.cuahsi.wof.get_sites(wsdlurl)\n",
      "        else:\n",
      "            response = ulmo.cuahsi.wof.get_site_info(wsdlurl, sitecd)\n",
      "        if len(response) > 0:\n",
      "            inforesp = {'wofserviceok':True, 'response':response}\n",
      "        else:\n",
      "            inforesp = {'wofserviceok':False}\n",
      "    except:\n",
      "        inforesp = {'wofserviceok':False}\n",
      "    return inforesp"
     ],
     "language": "python",
     "metadata": {},
     "outputs": [],
     "prompt_number": 4
    },
    {
     "cell_type": "code",
     "collapsed": false,
     "input": [
      "sitesinfo_dct = {czocd:get_sites_info_test(czocd) for czocd in czodata_wofwsdl_cd_lst}"
     ],
     "language": "python",
     "metadata": {},
     "outputs": [],
     "prompt_number": 5
    },
    {
     "cell_type": "code",
     "collapsed": false,
     "input": [
      "# list all services; for each service: Is it working or not empty? \n",
      "# If so, show the number of sites in the service\n",
      "# Provide total number of sites, across all services\n",
      "total_sites_cnt = 0\n",
      "for k,v in sorted(sitesinfo_dct.items()):\n",
      "    if v['wofserviceok']:\n",
      "        print k, v['wofserviceok'], len(v['response'])\n",
      "        total_sites_cnt += len(v['response'])\n",
      "    else:\n",
      "        print k, v['wofserviceok']\n",
      "print total_sites_cnt"
     ],
     "language": "python",
     "metadata": {},
     "outputs": [
      {
       "output_type": "stream",
       "stream": "stdout",
       "text": [
        "czo_ariz False\n",
        "czo_boulder True 13\n",
        "czo_calhoun False\n",
        "czo_catalina True 7\n",
        "czo_eel False\n",
        "czo_iml False\n",
        "czo_luquillo True 10\n",
        "czo_merced True 95\n",
        "czo_psu True 48\n",
        "czo_reynolds False\n",
        "czo_udel True 81\n",
        "254\n"
       ]
      }
     ],
     "prompt_number": 6
    },
    {
     "cell_type": "markdown",
     "metadata": {},
     "source": [
      "### Extract sites attributes, to create pandas data frame  \n",
      "- collect and record: czocd, sitecd, name\n",
      "- store into a \"record\" structure, before importing into a pandas DF"
     ]
    },
    {
     "cell_type": "code",
     "collapsed": false,
     "input": [
      "# For now, only from get_sites request (so, no series)\n",
      "def extract_site_attributes(czocd, siteinfo):\n",
      "    pull_attributes = ['code', 'name']\n",
      "    attr = {'czocd':czocd}\n",
      "    attr.update({pull_att:siteinfo[pull_att] for pull_att in pull_attributes})\n",
      "    \n",
      "    return attr"
     ],
     "language": "python",
     "metadata": {},
     "outputs": [],
     "prompt_number": 8
    },
    {
     "cell_type": "code",
     "collapsed": false,
     "input": [
      "# a nested list comprehension is somewhat counter intuitive ...\n",
      "sites_records = [extract_site_attributes(czocd, site) \n",
      "                for czocd,v in sorted(sitesinfo_dct.items()) if v['wofserviceok']\n",
      "                for site in v['response'].values()]"
     ],
     "language": "python",
     "metadata": {},
     "outputs": [],
     "prompt_number": 9
    },
    {
     "cell_type": "code",
     "collapsed": false,
     "input": [
      "#sta_0df = pd.DataFrame.from_records(flattenedsta_0, index=['varcd'])\n",
      "siteinfo_df = pd.DataFrame.from_records(sites_records)"
     ],
     "language": "python",
     "metadata": {},
     "outputs": [],
     "prompt_number": 10
    },
    {
     "cell_type": "code",
     "collapsed": false,
     "input": [
      "siteinfo_df.describe()"
     ],
     "language": "python",
     "metadata": {},
     "outputs": [
      {
       "html": [
        "<div style=\"max-height:1000px;max-width:1500px;overflow:auto;\">\n",
        "<table border=\"1\" class=\"dataframe\">\n",
        "  <thead>\n",
        "    <tr style=\"text-align: right;\">\n",
        "      <th></th>\n",
        "      <th>code</th>\n",
        "      <th>czocd</th>\n",
        "      <th>name</th>\n",
        "    </tr>\n",
        "  </thead>\n",
        "  <tbody>\n",
        "    <tr>\n",
        "      <th>count</th>\n",
        "      <td>       254</td>\n",
        "      <td>        254</td>\n",
        "      <td>                                       254</td>\n",
        "    </tr>\n",
        "    <tr>\n",
        "      <th>unique</th>\n",
        "      <td>       254</td>\n",
        "      <td>          6</td>\n",
        "      <td>                                       223</td>\n",
        "    </tr>\n",
        "    <tr>\n",
        "      <th>top</th>\n",
        "      <td> BET_GULLY</td>\n",
        "      <td> czo_merced</td>\n",
        "      <td> Providence upper met station north aspect</td>\n",
        "    </tr>\n",
        "    <tr>\n",
        "      <th>freq</th>\n",
        "      <td>         1</td>\n",
        "      <td>         95</td>\n",
        "      <td>                                         8</td>\n",
        "    </tr>\n",
        "  </tbody>\n",
        "</table>\n",
        "<p>4 rows \u00d7 3 columns</p>\n",
        "</div>"
       ],
       "metadata": {},
       "output_type": "pyout",
       "prompt_number": 11,
       "text": [
        "             code       czocd                                       name\n",
        "count         254         254                                        254\n",
        "unique        254           6                                        223\n",
        "top     BET_GULLY  czo_merced  Providence upper met station north aspect\n",
        "freq            1          95                                          8\n",
        "\n",
        "[4 rows x 3 columns]"
       ]
      }
     ],
     "prompt_number": 11
    },
    {
     "cell_type": "code",
     "collapsed": false,
     "input": [
      "siteinfo_df.head()"
     ],
     "language": "python",
     "metadata": {},
     "outputs": [
      {
       "html": [
        "<div style=\"max-height:1000px;max-width:1500px;overflow:auto;\">\n",
        "<table border=\"1\" class=\"dataframe\">\n",
        "  <thead>\n",
        "    <tr style=\"text-align: right;\">\n",
        "      <th></th>\n",
        "      <th>code</th>\n",
        "      <th>czocd</th>\n",
        "      <th>name</th>\n",
        "    </tr>\n",
        "  </thead>\n",
        "  <tbody>\n",
        "    <tr>\n",
        "      <th>0</th>\n",
        "      <td>       LGG_P4</td>\n",
        "      <td> czo_boulder</td>\n",
        "      <td>  Lower Gordon Gulch Pole 4</td>\n",
        "    </tr>\n",
        "    <tr>\n",
        "      <th>1</th>\n",
        "      <td>    BET_GULLY</td>\n",
        "      <td> czo_boulder</td>\n",
        "      <td>              Betasso Gully</td>\n",
        "    </tr>\n",
        "    <tr>\n",
        "      <th>2</th>\n",
        "      <td>       LGG_P5</td>\n",
        "      <td> czo_boulder</td>\n",
        "      <td>  Lower Gordon Gulch Pole 5</td>\n",
        "    </tr>\n",
        "    <tr>\n",
        "      <th>3</th>\n",
        "      <td>      LGG_P10</td>\n",
        "      <td> czo_boulder</td>\n",
        "      <td> Lower Gordon Gulch Pole 10</td>\n",
        "    </tr>\n",
        "    <tr>\n",
        "      <th>4</th>\n",
        "      <td> GREEN_LAKE_4</td>\n",
        "      <td> czo_boulder</td>\n",
        "      <td>               GREEN LAKE 4</td>\n",
        "    </tr>\n",
        "  </tbody>\n",
        "</table>\n",
        "<p>5 rows \u00d7 3 columns</p>\n",
        "</div>"
       ],
       "metadata": {},
       "output_type": "pyout",
       "prompt_number": 12,
       "text": [
        "           code        czocd                        name\n",
        "0        LGG_P4  czo_boulder   Lower Gordon Gulch Pole 4\n",
        "1     BET_GULLY  czo_boulder               Betasso Gully\n",
        "2        LGG_P5  czo_boulder   Lower Gordon Gulch Pole 5\n",
        "3       LGG_P10  czo_boulder  Lower Gordon Gulch Pole 10\n",
        "4  GREEN_LAKE_4  czo_boulder                GREEN LAKE 4\n",
        "\n",
        "[5 rows x 3 columns]"
       ]
      }
     ],
     "prompt_number": 12
    },
    {
     "cell_type": "markdown",
     "metadata": {},
     "source": [
      "#### Show some summaries for attributes"
     ]
    },
    {
     "cell_type": "code",
     "collapsed": false,
     "input": [
      "siteinfo_df.czocd.value_counts()"
     ],
     "language": "python",
     "metadata": {},
     "outputs": [
      {
       "metadata": {},
       "output_type": "pyout",
       "prompt_number": 13,
       "text": [
        "czo_merced      95\n",
        "czo_udel        81\n",
        "czo_psu         48\n",
        "czo_boulder     13\n",
        "czo_luquillo    10\n",
        "czo_catalina     7\n",
        "dtype: int64"
       ]
      }
     ],
     "prompt_number": 13
    },
    {
     "cell_type": "code",
     "collapsed": false,
     "input": [
      "#siteinfo_df.to_clipboard(sep=\"\\t\")"
     ],
     "language": "python",
     "metadata": {},
     "outputs": [],
     "prompt_number": 14
    },
    {
     "cell_type": "markdown",
     "metadata": {},
     "source": [
      "### Request detailed site info for all sites"
     ]
    },
    {
     "cell_type": "code",
     "collapsed": false,
     "input": [
      "# Make get_site_info requests for all sites\n",
      "siteinfo_dct = {}\n",
      "for czocd in czodata_wofwsdl_cd_lst:\n",
      "    if sitesinfo_dct[czocd]['wofserviceok']:\n",
      "        siteinfo_dct[czocd] = {sitecd:get_sites_info_test(czocd, sitecd) \n",
      "                               for sitecd in sitesinfo_dct[czocd]['response'].keys()}"
     ],
     "language": "python",
     "metadata": {},
     "outputs": [],
     "prompt_number": 26
    },
    {
     "cell_type": "code",
     "collapsed": false,
     "input": [
      "sorted(siteinfo_dct.keys())"
     ],
     "language": "python",
     "metadata": {},
     "outputs": [
      {
       "metadata": {},
       "output_type": "pyout",
       "prompt_number": 28,
       "text": [
        "['czo_boulder',\n",
        " 'czo_catalina',\n",
        " 'czo_luquillo',\n",
        " 'czo_merced',\n",
        " 'czo_psu',\n",
        " 'czo_udel']"
       ]
      }
     ],
     "prompt_number": 28
    },
    {
     "cell_type": "code",
     "collapsed": false,
     "input": [
      "for czocd, v in sorted(siteinfo_dct.items()):\n",
      "    noseries_cnt = 0\n",
      "    for sitecd, sitedct in v.items():\n",
      "        if len(sitedct['response']['series']) == 0:\n",
      "            noseries_cnt += 1\n",
      "    print \"%s: %d sites with empty series, out of %d sites\" % \\\n",
      "        (czocd, noseries_cnt, len(v))"
     ],
     "language": "python",
     "metadata": {},
     "outputs": [
      {
       "output_type": "stream",
       "stream": "stdout",
       "text": [
        "czo_boulder: 11 sites with empty series, out of 13 sites\n",
        "czo_catalina: 1 sites with empty series, out of 7 sites\n",
        "czo_luquillo: 1 sites with empty series, out of 10 sites\n",
        "czo_merced: 30 sites with empty series, out of 95 sites\n",
        "czo_psu: 9 sites with empty series, out of 48 sites\n",
        "czo_udel: 13 sites with empty series, out of 81 sites\n"
       ]
      }
     ],
     "prompt_number": 38
    },
    {
     "cell_type": "code",
     "collapsed": false,
     "input": [
      "# Save to json file so I can get back to the content later w/o having to issue all the requests again\n",
      "import json\n",
      "with open('/home/mayorga/Desktop/CZODataWOF_siteinfo.json', 'w') as outfile:\n",
      "     json.dump(siteinfo_dct, outfile, sort_keys=True, indent=4)"
     ],
     "language": "python",
     "metadata": {},
     "outputs": [],
     "prompt_number": 30
    },
    {
     "cell_type": "markdown",
     "metadata": {},
     "source": [
      "### Explore a bit the structure of siteinfo_dct, to double check"
     ]
    },
    {
     "cell_type": "code",
     "collapsed": false,
     "input": [
      "siteinfo_dct['czo_luquillo'].keys()"
     ],
     "language": "python",
     "metadata": {},
     "outputs": [
      {
       "metadata": {},
       "output_type": "pyout",
       "prompt_number": 31,
       "text": [
        "['czo_luquillo:21',\n",
        " 'czo_luquillo:20',\n",
        " 'czo_luquillo:23',\n",
        " 'czo_luquillo:22',\n",
        " 'czo_luquillo:10',\n",
        " 'czo_luquillo:241',\n",
        " 'czo_luquillo:15',\n",
        " 'czo_luquillo:48',\n",
        " 'czo_luquillo:367',\n",
        " 'czo_luquillo:137']"
       ]
      }
     ],
     "prompt_number": 31
    },
    {
     "cell_type": "code",
     "collapsed": false,
     "input": [
      "siteinfo_dct['czo_luquillo']['czo_luquillo:22'].keys()"
     ],
     "language": "python",
     "metadata": {},
     "outputs": [
      {
       "metadata": {},
       "output_type": "pyout",
       "prompt_number": 32,
       "text": [
        "['wofserviceok', 'response']"
       ]
      }
     ],
     "prompt_number": 32
    },
    {
     "cell_type": "code",
     "collapsed": false,
     "input": [
      "siteinfo_dct['czo_luquillo']['czo_luquillo:22']['response'].keys()"
     ],
     "language": "python",
     "metadata": {},
     "outputs": [
      {
       "metadata": {},
       "output_type": "pyout",
       "prompt_number": 33,
       "text": [
        "['site_property', 'code', 'name', 'series', 'location', 'network']"
       ]
      }
     ],
     "prompt_number": 33
    },
    {
     "cell_type": "code",
     "collapsed": false,
     "input": [
      "siteinfo_dct['czo_luquillo']['czo_luquillo:22']['response']['name']"
     ],
     "language": "python",
     "metadata": {},
     "outputs": [
      {
       "metadata": {},
       "output_type": "pyout",
       "prompt_number": 49,
       "text": [
        "'Quebrada three-Bisley (Q3)'"
       ]
      }
     ],
     "prompt_number": 49
    },
    {
     "cell_type": "code",
     "collapsed": false,
     "input": [
      "len(siteinfo_dct['czo_luquillo']['czo_luquillo:22']['response']['series'])"
     ],
     "language": "python",
     "metadata": {},
     "outputs": [
      {
       "metadata": {},
       "output_type": "pyout",
       "prompt_number": 34,
       "text": [
        "10"
       ]
      }
     ],
     "prompt_number": 34
    },
    {
     "cell_type": "code",
     "collapsed": false,
     "input": [
      "siteinfo_dct['czo_luquillo']['czo_luquillo:22']['response']['series'].keys()"
     ],
     "language": "python",
     "metadata": {},
     "outputs": [
      {
       "metadata": {},
       "output_type": "pyout",
       "prompt_number": 35,
       "text": [
        "['czo_luquillo:Temperature7',\n",
        " 'czo_luquillo:Temperature5',\n",
        " 'czo_luquillo:Batteryvoltage13',\n",
        " 'czo_luquillo:Gageheight3',\n",
        " 'czo_luquillo:Volumetricwatercontent7',\n",
        " 'czo_luquillo:Discharge1',\n",
        " 'czo_luquillo:Discharge4',\n",
        " 'czo_luquillo:Volumetricwatercontent8',\n",
        " 'czo_luquillo:Precipitation1',\n",
        " 'czo_luquillo:Precipitation2']"
       ]
      }
     ],
     "prompt_number": 35
    },
    {
     "cell_type": "code",
     "collapsed": false,
     "input": [
      "siteinfo_dct['czo_luquillo']['czo_luquillo:22']['response']['code']"
     ],
     "language": "python",
     "metadata": {},
     "outputs": [
      {
       "metadata": {},
       "output_type": "pyout",
       "prompt_number": 42,
       "text": [
        "'22'"
       ]
      }
     ],
     "prompt_number": 42
    },
    {
     "cell_type": "markdown",
     "metadata": {},
     "source": [
      "### Load into pandas DataFrame\n",
      "Some of these descriptions refer to the step done above under \"Request detailed site info for all sites\". This step will create multiple \"rows\" per site (one per series).\n",
      "- Loop over WOF endpoint codes\n",
      "- For each WOF endpoint (CZO):\n",
      "  - read the dict (siteinfo_dct) having all sites for the endpoint (previous pass)\n",
      "  - for each site, issue a get_site_info\n",
      "    - see if there are series available (ie, not empty or devoid of series). Looks like such cases return an empty series item in ulmo: 'series': {},\n",
      "    - identify the attributes I will pull out (series/var code, var name, and sample_medium; is that it?)\n",
      "    - Test for existence of at least one series; exclude sites that have no series\n",
      "  - build up the \"records\" (list of dicts) that will be used to create pandas DataFrame"
     ]
    },
    {
     "cell_type": "code",
     "collapsed": false,
     "input": [
      "# Example for comparing the same variable name at one site:\n",
      "#series_sel = siteinfo_dct['czo_luquillo']['czo_luquillo:22']['response']['series']\n",
      "#series_sel['czo_luquillo:Temperature5']\n",
      "#series_sel['czo_luquillo:Temperature7']"
     ],
     "language": "python",
     "metadata": {},
     "outputs": [],
     "prompt_number": 48
    },
    {
     "cell_type": "code",
     "collapsed": false,
     "input": [
      "def extract_site_var_attributes(czocd, sitecd, siteinfoseries):\n",
      "    \"\"\" sitecd includes the network code; eg: czo_luquillo:22\n",
      "    siteinfoseries is the series dct, eg:\n",
      "    siteinfo_dct['czo_luquillo']['czo_luquillo:22']['response']['series']\n",
      "    \"\"\"\n",
      "    pull_attributes = ['code', 'name', 'sample_medium']\n",
      "    seriesattr_lst = []\n",
      "    for seriescd,vardct in siteinfoseries.items():\n",
      "        attr = {'czocd':czocd, 'sitecd':sitecd, 'varcd':seriescd}\n",
      "        attr.update({pull_att:vardct['variable'][pull_att] for pull_att in pull_attributes})\n",
      "        seriesattr_lst.append(attr)\n",
      "    \n",
      "    return seriesattr_lst"
     ],
     "language": "python",
     "metadata": {},
     "outputs": [],
     "prompt_number": 87
    },
    {
     "cell_type": "code",
     "collapsed": false,
     "input": [
      "#czocd = 'czo_luquillo'\n",
      "#sitecd = 'czo_luquillo:22'\n",
      "#series_sel = siteinfo_dct[czocd][sitecd]['response']['series']\n",
      "#extract_site_var_attributes(czocd, sitecd, series_sel)"
     ],
     "language": "python",
     "metadata": {},
     "outputs": [],
     "prompt_number": 93
    },
    {
     "cell_type": "code",
     "collapsed": false,
     "input": [
      "sitevars_records = []\n",
      "for czocd,v in sorted(siteinfo_dct.items()):\n",
      "    for sitecd in v.keys():\n",
      "        if v[sitecd]['wofserviceok'] and len(v[sitecd]['response']['series']) > 0:\n",
      "            seriesattr_lst = extract_site_var_attributes(czocd, sitecd, v[sitecd]['response']['series'])\n",
      "            # now use this list to extend the cumulative list\n",
      "            sitevars_records.extend(seriesattr_lst)"
     ],
     "language": "python",
     "metadata": {},
     "outputs": [],
     "prompt_number": 99
    },
    {
     "cell_type": "code",
     "collapsed": false,
     "input": [
      "len(sitevars_records), sitevars_records[:2]"
     ],
     "language": "python",
     "metadata": {},
     "outputs": [
      {
       "metadata": {},
       "output_type": "pyout",
       "prompt_number": 100,
       "text": [
        "(1103,\n",
        " [{'code': 'VolumetricWaterContent1',\n",
        "   'czocd': 'czo_boulder',\n",
        "   'name': 'Volumetric Water Content',\n",
        "   'sample_medium': 'soil',\n",
        "   'sitecd': 'czo_boulder:LGG_P4',\n",
        "   'varcd': 'czo_boulder:VolumetricWaterContent1'},\n",
        "  {'code': 'Temperature2',\n",
        "   'czocd': 'czo_boulder',\n",
        "   'name': 'Temperature',\n",
        "   'sample_medium': 'soil',\n",
        "   'sitecd': 'czo_boulder:LGG_P4',\n",
        "   'varcd': 'czo_boulder:Temperature2'}])"
       ]
      }
     ],
     "prompt_number": 100
    },
    {
     "cell_type": "code",
     "collapsed": false,
     "input": [
      "sitevarinfo_df = pd.DataFrame.from_records(sitevars_records, index=['varcd'])"
     ],
     "language": "python",
     "metadata": {},
     "outputs": [],
     "prompt_number": 101
    },
    {
     "cell_type": "code",
     "collapsed": false,
     "input": [
      "sitevarinfo_df.describe()"
     ],
     "language": "python",
     "metadata": {},
     "outputs": [
      {
       "html": [
        "<div style=\"max-height:1000px;max-width:1500px;overflow:auto;\">\n",
        "<table border=\"1\" class=\"dataframe\">\n",
        "  <thead>\n",
        "    <tr style=\"text-align: right;\">\n",
        "      <th></th>\n",
        "      <th>code</th>\n",
        "      <th>czocd</th>\n",
        "      <th>name</th>\n",
        "      <th>sample_medium</th>\n",
        "      <th>sitecd</th>\n",
        "    </tr>\n",
        "  </thead>\n",
        "  <tbody>\n",
        "    <tr>\n",
        "      <th>count</th>\n",
        "      <td>          1103</td>\n",
        "      <td>    1103</td>\n",
        "      <td>        1103</td>\n",
        "      <td>         1103</td>\n",
        "      <td>            1103</td>\n",
        "    </tr>\n",
        "    <tr>\n",
        "      <th>unique</th>\n",
        "      <td>           217</td>\n",
        "      <td>       6</td>\n",
        "      <td>         105</td>\n",
        "      <td>           11</td>\n",
        "      <td>             189</td>\n",
        "    </tr>\n",
        "    <tr>\n",
        "      <th>top</th>\n",
        "      <td> Temperature64</td>\n",
        "      <td> czo_psu</td>\n",
        "      <td> Temperature</td>\n",
        "      <td> Not Relevant</td>\n",
        "      <td> czo_udel:WCCLAB</td>\n",
        "    </tr>\n",
        "    <tr>\n",
        "      <th>freq</th>\n",
        "      <td>            32</td>\n",
        "      <td>     413</td>\n",
        "      <td>         124</td>\n",
        "      <td>          605</td>\n",
        "      <td>              38</td>\n",
        "    </tr>\n",
        "  </tbody>\n",
        "</table>\n",
        "<p>4 rows \u00d7 5 columns</p>\n",
        "</div>"
       ],
       "metadata": {},
       "output_type": "pyout",
       "prompt_number": 102,
       "text": [
        "                 code    czocd         name sample_medium           sitecd\n",
        "count            1103     1103         1103          1103             1103\n",
        "unique            217        6          105            11              189\n",
        "top     Temperature64  czo_psu  Temperature  Not Relevant  czo_udel:WCCLAB\n",
        "freq               32      413          124           605               38\n",
        "\n",
        "[4 rows x 5 columns]"
       ]
      }
     ],
     "prompt_number": 102
    },
    {
     "cell_type": "code",
     "collapsed": false,
     "input": [
      "sitevarinfo_df.head()"
     ],
     "language": "python",
     "metadata": {},
     "outputs": [
      {
       "html": [
        "<div style=\"max-height:1000px;max-width:1500px;overflow:auto;\">\n",
        "<table border=\"1\" class=\"dataframe\">\n",
        "  <thead>\n",
        "    <tr style=\"text-align: right;\">\n",
        "      <th></th>\n",
        "      <th>code</th>\n",
        "      <th>czocd</th>\n",
        "      <th>name</th>\n",
        "      <th>sample_medium</th>\n",
        "      <th>sitecd</th>\n",
        "    </tr>\n",
        "    <tr>\n",
        "      <th>varcd</th>\n",
        "      <th></th>\n",
        "      <th></th>\n",
        "      <th></th>\n",
        "      <th></th>\n",
        "      <th></th>\n",
        "    </tr>\n",
        "  </thead>\n",
        "  <tbody>\n",
        "    <tr>\n",
        "      <th>czo_boulder:VolumetricWaterContent1</th>\n",
        "      <td> VolumetricWaterContent1</td>\n",
        "      <td> czo_boulder</td>\n",
        "      <td>  Volumetric Water Content</td>\n",
        "      <td>          soil</td>\n",
        "      <td>       czo_boulder:LGG_P4</td>\n",
        "    </tr>\n",
        "    <tr>\n",
        "      <th>czo_boulder:Temperature2</th>\n",
        "      <td>            Temperature2</td>\n",
        "      <td> czo_boulder</td>\n",
        "      <td>               Temperature</td>\n",
        "      <td>          soil</td>\n",
        "      <td>       czo_boulder:LGG_P4</td>\n",
        "    </tr>\n",
        "    <tr>\n",
        "      <th>czo_boulder:dissolved_N</th>\n",
        "      <td>             dissolved_N</td>\n",
        "      <td> czo_boulder</td>\n",
        "      <td> Nitrogen, Total dissolved</td>\n",
        "      <td> Surface Water</td>\n",
        "      <td> czo_boulder:GREEN_LAKE_4</td>\n",
        "    </tr>\n",
        "    <tr>\n",
        "      <th>czo_boulder:inorganic_P</th>\n",
        "      <td>             inorganic_P</td>\n",
        "      <td> czo_boulder</td>\n",
        "      <td>     Phosphorus, Inorganic</td>\n",
        "      <td> Surface Water</td>\n",
        "      <td> czo_boulder:GREEN_LAKE_4</td>\n",
        "    </tr>\n",
        "    <tr>\n",
        "      <th>czo_boulder:total_P</th>\n",
        "      <td>                 total_P</td>\n",
        "      <td> czo_boulder</td>\n",
        "      <td>         Phosphorus, Total</td>\n",
        "      <td> Surface Water</td>\n",
        "      <td> czo_boulder:GREEN_LAKE_4</td>\n",
        "    </tr>\n",
        "  </tbody>\n",
        "</table>\n",
        "<p>5 rows \u00d7 5 columns</p>\n",
        "</div>"
       ],
       "metadata": {},
       "output_type": "pyout",
       "prompt_number": 103,
       "text": [
        "                                                        code        czocd  \\\n",
        "varcd                                                                       \n",
        "czo_boulder:VolumetricWaterContent1  VolumetricWaterContent1  czo_boulder   \n",
        "czo_boulder:Temperature2                        Temperature2  czo_boulder   \n",
        "czo_boulder:dissolved_N                          dissolved_N  czo_boulder   \n",
        "czo_boulder:inorganic_P                          inorganic_P  czo_boulder   \n",
        "czo_boulder:total_P                                  total_P  czo_boulder   \n",
        "\n",
        "                                                          name  sample_medium  \\\n",
        "varcd                                                                           \n",
        "czo_boulder:VolumetricWaterContent1   Volumetric Water Content           soil   \n",
        "czo_boulder:Temperature2                           Temperature           soil   \n",
        "czo_boulder:dissolved_N              Nitrogen, Total dissolved  Surface Water   \n",
        "czo_boulder:inorganic_P                  Phosphorus, Inorganic  Surface Water   \n",
        "czo_boulder:total_P                          Phosphorus, Total  Surface Water   \n",
        "\n",
        "                                                       sitecd  \n",
        "varcd                                                          \n",
        "czo_boulder:VolumetricWaterContent1        czo_boulder:LGG_P4  \n",
        "czo_boulder:Temperature2                   czo_boulder:LGG_P4  \n",
        "czo_boulder:dissolved_N              czo_boulder:GREEN_LAKE_4  \n",
        "czo_boulder:inorganic_P              czo_boulder:GREEN_LAKE_4  \n",
        "czo_boulder:total_P                  czo_boulder:GREEN_LAKE_4  \n",
        "\n",
        "[5 rows x 5 columns]"
       ]
      }
     ],
     "prompt_number": 103
    },
    {
     "cell_type": "code",
     "collapsed": false,
     "input": [
      "sitevarinfo_df.czocd.value_counts()"
     ],
     "language": "python",
     "metadata": {},
     "outputs": [
      {
       "metadata": {},
       "output_type": "pyout",
       "prompt_number": 108,
       "text": [
        "czo_psu         413\n",
        "czo_udel        309\n",
        "czo_merced      193\n",
        "czo_luquillo    137\n",
        "czo_boulder      33\n",
        "czo_catalina     18\n",
        "dtype: int64"
       ]
      }
     ],
     "prompt_number": 108
    },
    {
     "cell_type": "code",
     "collapsed": false,
     "input": [
      "sitevarinfo_df.name.value_counts()"
     ],
     "language": "python",
     "metadata": {},
     "outputs": [
      {
       "metadata": {},
       "output_type": "pyout",
       "prompt_number": 109,
       "text": [
        "Temperature                 124\n",
        "Volumetric water content     58\n",
        "Water level                  58\n",
        "Oxygen-18                    31\n",
        "Deuterium                    30\n",
        "Potassium                    29\n",
        "Magnesium                    29\n",
        "Calcium                      29\n",
        "relative humidity            29\n",
        "Nitrogen, nitrate (NO3)      28\n",
        "Sodium                       28\n",
        "Chloride                     28\n",
        "Sulfate                      28\n",
        "Snow Depth                   27\n",
        "temperature                  27\n",
        "...\n",
        "Hydron                           1\n",
        "Carbon dioxide flux              1\n",
        "Latitude                         1\n",
        "Phosphorus, particulate          1\n",
        "Nitrogen, Total                  1\n",
        "Nitrogen, particulate organic    1\n",
        "Phosphorus, Dissolved Organic    1\n",
        "Bulk Density                     1\n",
        "Nitrogen, total dissolved        1\n",
        "Longitude                        1\n",
        "Volumetric Water Content         1\n",
        "Soil Organic Matter              1\n",
        "Phosphorus, Inorganic            1\n",
        "Distance                         1\n",
        "Container number                 1\n",
        "Length: 105, dtype: int64"
       ]
      }
     ],
     "prompt_number": 109
    },
    {
     "cell_type": "code",
     "collapsed": false,
     "input": [
      "sitevarinfo_df.sample_medium.value_counts()"
     ],
     "language": "python",
     "metadata": {},
     "outputs": [
      {
       "metadata": {},
       "output_type": "pyout",
       "prompt_number": 111,
       "text": [
        "Not Relevant     605\n",
        "Surface Water    284\n",
        "Air               80\n",
        "soil              56\n",
        "Snow              27\n",
        "air               25\n",
        "surface water     10\n",
        "Soil               9\n",
        "Groundwater        3\n",
        "Other              3\n",
        "Surface water      1\n",
        "dtype: int64"
       ]
      }
     ],
     "prompt_number": 111
    },
    {
     "cell_type": "code",
     "collapsed": false,
     "input": [
      "# Can't save to HDF5, b/c PyTables is not installed ...\n",
      "#sitevarinfo_df.to_hdf(\"/home/mayorga/Desktop/CZODataWOF_sitevarinfo.h5\", \"table\")\n",
      "# Writing to pickle\n",
      "sitevarinfo_df.to_pickle(\"/home/mayorga/Desktop/CZODataWOF_sitevarinfo.pkl\")\n",
      "# To read back into a DataFrame, use:\n",
      "#df = pd.read_pickle(\"/home/mayorga/Desktop/CZODataWOF_sitevarinfo.pkl\")"
     ],
     "language": "python",
     "metadata": {},
     "outputs": [],
     "prompt_number": 123
    },
    {
     "cell_type": "markdown",
     "metadata": {},
     "source": [
      "#### See what's the largest number of variables per site, and explore some of those occurrences"
     ]
    },
    {
     "cell_type": "code",
     "collapsed": false,
     "input": [
      "sitevarinfo_df.sitecd.value_counts().head(10)"
     ],
     "language": "python",
     "metadata": {},
     "outputs": [
      {
       "metadata": {},
       "output_type": "pyout",
       "prompt_number": 131,
       "text": [
        "czo_udel:WCCLAB             38\n",
        "czo_udel:STA2               38\n",
        "czo_udel:WCC_MEADOW         37\n",
        "czo_udel:WCCPH              35\n",
        "czo_boulder:GREEN_LAKE_4    31\n",
        "czo_luquillo:10             29\n",
        "czo_luquillo:23             27\n",
        "czo_psu:SSMS                26\n",
        "czo_psu:SSVF                26\n",
        "czo_psu:SPMS                26\n",
        "dtype: int64"
       ]
      }
     ],
     "prompt_number": 131
    },
    {
     "cell_type": "code",
     "collapsed": false,
     "input": [
      "site_sel = sitevarinfo_df[sitevarinfo_df.sitecd == 'czo_udel:WCCLAB'][['name','sample_medium']]"
     ],
     "language": "python",
     "metadata": {},
     "outputs": [],
     "prompt_number": 135
    },
    {
     "cell_type": "code",
     "collapsed": false,
     "input": [
      "# Note that there are many variables (~20); most variable names occur twice;\n",
      "# and get_site_info() doesn't provide a depth/altitude attribute to see if that's\n",
      "# what distinguishes the series (same variable name) or to refine where the series occurs;\n",
      "# two occurrences of the same variable name may be due to different methods, or\n",
      "# different temporal aggregations (eg, instantaneous vs daily average), etc\n",
      "site_sel.sort('name')"
     ],
     "language": "python",
     "metadata": {},
     "outputs": [
      {
       "html": [
        "<div style=\"max-height:1000px;max-width:1500px;overflow:auto;\">\n",
        "<table border=\"1\" class=\"dataframe\">\n",
        "  <thead>\n",
        "    <tr style=\"text-align: right;\">\n",
        "      <th></th>\n",
        "      <th>name</th>\n",
        "      <th>sample_medium</th>\n",
        "    </tr>\n",
        "    <tr>\n",
        "      <th>varcd</th>\n",
        "      <th></th>\n",
        "      <th></th>\n",
        "    </tr>\n",
        "  </thead>\n",
        "  <tbody>\n",
        "    <tr>\n",
        "      <th>czo_udel:Alkalinitytotal6</th>\n",
        "      <td>                       Alkalinity, total</td>\n",
        "      <td> Surface Water</td>\n",
        "    </tr>\n",
        "    <tr>\n",
        "      <th>czo_udel:Alkalinitytotal5</th>\n",
        "      <td>                       Alkalinity, total</td>\n",
        "      <td> Surface Water</td>\n",
        "    </tr>\n",
        "    <tr>\n",
        "      <th>czo_udel:Calcium10</th>\n",
        "      <td>                                 Calcium</td>\n",
        "      <td> Surface Water</td>\n",
        "    </tr>\n",
        "    <tr>\n",
        "      <th>czo_udel:Calcium11</th>\n",
        "      <td>                                 Calcium</td>\n",
        "      <td> Surface Water</td>\n",
        "    </tr>\n",
        "    <tr>\n",
        "      <th>czo_udel:Carbondissolvedorganic4</th>\n",
        "      <td>               Carbon, dissolved organic</td>\n",
        "      <td> Surface Water</td>\n",
        "    </tr>\n",
        "    <tr>\n",
        "      <th>czo_udel:Chloride26</th>\n",
        "      <td>                                Chloride</td>\n",
        "      <td> Surface Water</td>\n",
        "    </tr>\n",
        "    <tr>\n",
        "      <th>czo_udel:Chloride27</th>\n",
        "      <td>                                Chloride</td>\n",
        "      <td> Surface Water</td>\n",
        "    </tr>\n",
        "    <tr>\n",
        "      <th>czo_udel:Chlorophyllacorrectedforpheophytin2</th>\n",
        "      <td> Chlorophyll a, corrected for pheophytin</td>\n",
        "      <td> Surface Water</td>\n",
        "    </tr>\n",
        "    <tr>\n",
        "      <th>czo_udel:Magnesium14</th>\n",
        "      <td>                               Magnesium</td>\n",
        "      <td> Surface Water</td>\n",
        "    </tr>\n",
        "    <tr>\n",
        "      <th>czo_udel:Magnesium15</th>\n",
        "      <td>                               Magnesium</td>\n",
        "      <td> Surface Water</td>\n",
        "    </tr>\n",
        "    <tr>\n",
        "      <th>czo_udel:NitrogenNH438</th>\n",
        "      <td>                           Nitrogen, NH4</td>\n",
        "      <td> Surface Water</td>\n",
        "    </tr>\n",
        "    <tr>\n",
        "      <th>czo_udel:NitrogenNH439</th>\n",
        "      <td>                           Nitrogen, NH4</td>\n",
        "      <td> Surface Water</td>\n",
        "    </tr>\n",
        "    <tr>\n",
        "      <th>czo_udel:NitrogennitrateNO334</th>\n",
        "      <td>                 Nitrogen, nitrate (NO3)</td>\n",
        "      <td> Surface Water</td>\n",
        "    </tr>\n",
        "    <tr>\n",
        "      <th>czo_udel:NitrogennitrateNO335</th>\n",
        "      <td>                 Nitrogen, nitrate (NO3)</td>\n",
        "      <td> Surface Water</td>\n",
        "    </tr>\n",
        "    <tr>\n",
        "      <th>czo_udel:NitrogennitriteNO237</th>\n",
        "      <td>                 Nitrogen, nitrite (NO2)</td>\n",
        "      <td> Surface Water</td>\n",
        "    </tr>\n",
        "    <tr>\n",
        "      <th>czo_udel:NitrogennitriteNO238</th>\n",
        "      <td>                 Nitrogen, nitrite (NO2)</td>\n",
        "      <td> Surface Water</td>\n",
        "    </tr>\n",
        "    <tr>\n",
        "      <th>czo_udel:Nitrogenorganic42</th>\n",
        "      <td>                       Nitrogen, organic</td>\n",
        "      <td> Surface Water</td>\n",
        "    </tr>\n",
        "    <tr>\n",
        "      <th>czo_udel:Nitrogenorganic43</th>\n",
        "      <td>                       Nitrogen, organic</td>\n",
        "      <td> Surface Water</td>\n",
        "    </tr>\n",
        "    <tr>\n",
        "      <th>czo_udel:Nitrogentotalkjeldahl42</th>\n",
        "      <td>                Nitrogen, total kjeldahl</td>\n",
        "      <td> Surface Water</td>\n",
        "    </tr>\n",
        "    <tr>\n",
        "      <th>czo_udel:Nitrogentotalkjeldahl41</th>\n",
        "      <td>                Nitrogen, total kjeldahl</td>\n",
        "      <td> Surface Water</td>\n",
        "    </tr>\n",
        "    <tr>\n",
        "      <th>czo_udel:Pheophytin6</th>\n",
        "      <td>                              Pheophytin</td>\n",
        "      <td> Surface Water</td>\n",
        "    </tr>\n",
        "    <tr>\n",
        "      <th>czo_udel:PhosphorusphosphatePO444</th>\n",
        "      <td>             Phosphorus, phosphate (PO4)</td>\n",
        "      <td> Surface Water</td>\n",
        "    </tr>\n",
        "    <tr>\n",
        "      <th>czo_udel:PhosphorusphosphatePO443</th>\n",
        "      <td>             Phosphorus, phosphate (PO4)</td>\n",
        "      <td> Surface Water</td>\n",
        "    </tr>\n",
        "    <tr>\n",
        "      <th>czo_udel:Phosphorustotal46</th>\n",
        "      <td>                       Phosphorus, total</td>\n",
        "      <td> Surface Water</td>\n",
        "    </tr>\n",
        "    <tr>\n",
        "      <th>czo_udel:Phosphorustotal47</th>\n",
        "      <td>                       Phosphorus, total</td>\n",
        "      <td> Surface Water</td>\n",
        "    </tr>\n",
        "    <tr>\n",
        "      <th>czo_udel:Phosphorustotaldissolved48</th>\n",
        "      <td>             Phosphorus, total dissolved</td>\n",
        "      <td> Surface Water</td>\n",
        "    </tr>\n",
        "    <tr>\n",
        "      <th>czo_udel:Phosphorustotaldissolved49</th>\n",
        "      <td>             Phosphorus, total dissolved</td>\n",
        "      <td> Surface Water</td>\n",
        "    </tr>\n",
        "    <tr>\n",
        "      <th>czo_udel:Potassium23</th>\n",
        "      <td>                               Potassium</td>\n",
        "      <td> Surface Water</td>\n",
        "    </tr>\n",
        "    <tr>\n",
        "      <th>czo_udel:Potassium22</th>\n",
        "      <td>                               Potassium</td>\n",
        "      <td> Surface Water</td>\n",
        "    </tr>\n",
        "    <tr>\n",
        "      <th>czo_udel:Silica8</th>\n",
        "      <td>                                  Silica</td>\n",
        "      <td> Surface Water</td>\n",
        "    </tr>\n",
        "    <tr>\n",
        "      <th>czo_udel:Silicon7</th>\n",
        "      <td>                                 Silicon</td>\n",
        "      <td> Surface Water</td>\n",
        "    </tr>\n",
        "    <tr>\n",
        "      <th>czo_udel:Sodium18</th>\n",
        "      <td>                                  Sodium</td>\n",
        "      <td> Surface Water</td>\n",
        "    </tr>\n",
        "    <tr>\n",
        "      <th>czo_udel:Sodium19</th>\n",
        "      <td>                                  Sodium</td>\n",
        "      <td> Surface Water</td>\n",
        "    </tr>\n",
        "    <tr>\n",
        "      <th>czo_udel:Solidstotalsuspended2</th>\n",
        "      <td>                 Solids, total suspended</td>\n",
        "      <td> Surface Water</td>\n",
        "    </tr>\n",
        "    <tr>\n",
        "      <th>czo_udel:SpecificConductance3</th>\n",
        "      <td>                    Specific Conductance</td>\n",
        "      <td> Surface Water</td>\n",
        "    </tr>\n",
        "    <tr>\n",
        "      <th>czo_udel:Sulfate31</th>\n",
        "      <td>                                 Sulfate</td>\n",
        "      <td> Surface Water</td>\n",
        "    </tr>\n",
        "    <tr>\n",
        "      <th>czo_udel:Sulfate30</th>\n",
        "      <td>                                 Sulfate</td>\n",
        "      <td> Surface Water</td>\n",
        "    </tr>\n",
        "    <tr>\n",
        "      <th>czo_udel:pH2</th>\n",
        "      <td>                                      pH</td>\n",
        "      <td> Surface Water</td>\n",
        "    </tr>\n",
        "  </tbody>\n",
        "</table>\n",
        "<p>38 rows \u00d7 2 columns</p>\n",
        "</div>"
       ],
       "metadata": {},
       "output_type": "pyout",
       "prompt_number": 140,
       "text": [
        "                                                                                 name  \\\n",
        "varcd                                                                                   \n",
        "czo_udel:Alkalinitytotal6                                           Alkalinity, total   \n",
        "czo_udel:Alkalinitytotal5                                           Alkalinity, total   \n",
        "czo_udel:Calcium10                                                            Calcium   \n",
        "czo_udel:Calcium11                                                            Calcium   \n",
        "czo_udel:Carbondissolvedorganic4                            Carbon, dissolved organic   \n",
        "czo_udel:Chloride26                                                          Chloride   \n",
        "czo_udel:Chloride27                                                          Chloride   \n",
        "czo_udel:Chlorophyllacorrectedforpheophytin2  Chlorophyll a, corrected for pheophytin   \n",
        "czo_udel:Magnesium14                                                        Magnesium   \n",
        "czo_udel:Magnesium15                                                        Magnesium   \n",
        "czo_udel:NitrogenNH438                                                  Nitrogen, NH4   \n",
        "czo_udel:NitrogenNH439                                                  Nitrogen, NH4   \n",
        "czo_udel:NitrogennitrateNO334                                 Nitrogen, nitrate (NO3)   \n",
        "czo_udel:NitrogennitrateNO335                                 Nitrogen, nitrate (NO3)   \n",
        "czo_udel:NitrogennitriteNO237                                 Nitrogen, nitrite (NO2)   \n",
        "czo_udel:NitrogennitriteNO238                                 Nitrogen, nitrite (NO2)   \n",
        "czo_udel:Nitrogenorganic42                                          Nitrogen, organic   \n",
        "czo_udel:Nitrogenorganic43                                          Nitrogen, organic   \n",
        "czo_udel:Nitrogentotalkjeldahl42                             Nitrogen, total kjeldahl   \n",
        "czo_udel:Nitrogentotalkjeldahl41                             Nitrogen, total kjeldahl   \n",
        "czo_udel:Pheophytin6                                                       Pheophytin   \n",
        "czo_udel:PhosphorusphosphatePO444                         Phosphorus, phosphate (PO4)   \n",
        "czo_udel:PhosphorusphosphatePO443                         Phosphorus, phosphate (PO4)   \n",
        "czo_udel:Phosphorustotal46                                          Phosphorus, total   \n",
        "czo_udel:Phosphorustotal47                                          Phosphorus, total   \n",
        "czo_udel:Phosphorustotaldissolved48                       Phosphorus, total dissolved   \n",
        "czo_udel:Phosphorustotaldissolved49                       Phosphorus, total dissolved   \n",
        "czo_udel:Potassium23                                                        Potassium   \n",
        "czo_udel:Potassium22                                                        Potassium   \n",
        "czo_udel:Silica8                                                               Silica   \n",
        "czo_udel:Silicon7                                                             Silicon   \n",
        "czo_udel:Sodium18                                                              Sodium   \n",
        "czo_udel:Sodium19                                                              Sodium   \n",
        "czo_udel:Solidstotalsuspended2                                Solids, total suspended   \n",
        "czo_udel:SpecificConductance3                                    Specific Conductance   \n",
        "czo_udel:Sulfate31                                                            Sulfate   \n",
        "czo_udel:Sulfate30                                                            Sulfate   \n",
        "czo_udel:pH2                                                                       pH   \n",
        "\n",
        "                                              sample_medium  \n",
        "varcd                                                        \n",
        "czo_udel:Alkalinitytotal6                     Surface Water  \n",
        "czo_udel:Alkalinitytotal5                     Surface Water  \n",
        "czo_udel:Calcium10                            Surface Water  \n",
        "czo_udel:Calcium11                            Surface Water  \n",
        "czo_udel:Carbondissolvedorganic4              Surface Water  \n",
        "czo_udel:Chloride26                           Surface Water  \n",
        "czo_udel:Chloride27                           Surface Water  \n",
        "czo_udel:Chlorophyllacorrectedforpheophytin2  Surface Water  \n",
        "czo_udel:Magnesium14                          Surface Water  \n",
        "czo_udel:Magnesium15                          Surface Water  \n",
        "czo_udel:NitrogenNH438                        Surface Water  \n",
        "czo_udel:NitrogenNH439                        Surface Water  \n",
        "czo_udel:NitrogennitrateNO334                 Surface Water  \n",
        "czo_udel:NitrogennitrateNO335                 Surface Water  \n",
        "czo_udel:NitrogennitriteNO237                 Surface Water  \n",
        "czo_udel:NitrogennitriteNO238                 Surface Water  \n",
        "czo_udel:Nitrogenorganic42                    Surface Water  \n",
        "czo_udel:Nitrogenorganic43                    Surface Water  \n",
        "czo_udel:Nitrogentotalkjeldahl42              Surface Water  \n",
        "czo_udel:Nitrogentotalkjeldahl41              Surface Water  \n",
        "czo_udel:Pheophytin6                          Surface Water  \n",
        "czo_udel:PhosphorusphosphatePO444             Surface Water  \n",
        "czo_udel:PhosphorusphosphatePO443             Surface Water  \n",
        "czo_udel:Phosphorustotal46                    Surface Water  \n",
        "czo_udel:Phosphorustotal47                    Surface Water  \n",
        "czo_udel:Phosphorustotaldissolved48           Surface Water  \n",
        "czo_udel:Phosphorustotaldissolved49           Surface Water  \n",
        "czo_udel:Potassium23                          Surface Water  \n",
        "czo_udel:Potassium22                          Surface Water  \n",
        "czo_udel:Silica8                              Surface Water  \n",
        "czo_udel:Silicon7                             Surface Water  \n",
        "czo_udel:Sodium18                             Surface Water  \n",
        "czo_udel:Sodium19                             Surface Water  \n",
        "czo_udel:Solidstotalsuspended2                Surface Water  \n",
        "czo_udel:SpecificConductance3                 Surface Water  \n",
        "czo_udel:Sulfate31                            Surface Water  \n",
        "czo_udel:Sulfate30                            Surface Water  \n",
        "czo_udel:pH2                                  Surface Water  \n",
        "\n",
        "[38 rows x 2 columns]"
       ]
      }
     ],
     "prompt_number": 140
    },
    {
     "cell_type": "code",
     "collapsed": false,
     "input": [],
     "language": "python",
     "metadata": {},
     "outputs": []
    }
   ],
   "metadata": {}
  }
 ]
}
