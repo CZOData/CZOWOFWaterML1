{
 "metadata": {
  "name": "",
  "signature": "sha256:0f1c50a4de4faba2edfdf1e0c0ac14683b65c07ccdece653f1f00ccc355546f3"
 },
 "nbformat": 3,
 "nbformat_minor": 0,
 "worksheets": [
  {
   "cells": [
    {
     "cell_type": "markdown",
     "metadata": {},
     "source": [
      "# CZOData WOF services: Cross-service summary of Variables and related attributes\n",
      "Updated 11/24/2014. Emilio Mayorga"
     ]
    },
    {
     "cell_type": "code",
     "collapsed": false,
     "input": [
      "import pandas as pd\n",
      "import ulmo"
     ],
     "language": "python",
     "metadata": {},
     "outputs": [],
     "prompt_number": 1
    },
    {
     "cell_type": "code",
     "collapsed": false,
     "input": [
      "wsdlurl_tmplt = \"http://water.sdsc.edu/%s/cuahsi_1_1.asmx?WSDL\""
     ],
     "language": "python",
     "metadata": {},
     "outputs": [],
     "prompt_number": 2
    },
    {
     "cell_type": "code",
     "collapsed": false,
     "input": [
      "# These 4 services for the new CZO's are not actually active: 'czo_calhoun', 'czo_eel', 'czo_iml', 'czo_reynolds'\n",
      "# czo_ariz and czo_catalina are both from the same CZO (Catalina-Jemez)?!\n",
      "# But it looks like czo_ariz is broken anyway; see results below\n",
      "czodata_wofwsdl_cd_lst = ['czo_merced', 'czo_psu', 'czo_udel', 'czo_ariz', 'czo_boulder', 'czo_catalina', 'czo_luquillo',\n",
      "                          'czo_calhoun', 'czo_eel', 'czo_iml', 'czo_reynolds']"
     ],
     "language": "python",
     "metadata": {},
     "outputs": [],
     "prompt_number": 3
    },
    {
     "cell_type": "markdown",
     "metadata": {},
     "source": [
      "### Query WOF services, compile responses, and provide first high-level summary"
     ]
    },
    {
     "cell_type": "code",
     "collapsed": false,
     "input": [
      "def get_variable_info_test(czocd):\n",
      "    try:\n",
      "        response = ulmo.cuahsi.wof.get_variable_info(wsdlurl_tmplt % czocd)\n",
      "        if len(response) > 0:\n",
      "            varinforesp = {'wofserviceok':True, 'response':response}\n",
      "        else:\n",
      "            varinforesp = {'wofserviceok':False}\n",
      "    except:\n",
      "        varinforesp = {'wofserviceok':False}\n",
      "    return varinforesp"
     ],
     "language": "python",
     "metadata": {},
     "outputs": [],
     "prompt_number": 4
    },
    {
     "cell_type": "code",
     "collapsed": false,
     "input": [
      "varinfo_dct = {czocd:get_variable_info_test(czocd) for czocd in czodata_wofwsdl_cd_lst}"
     ],
     "language": "python",
     "metadata": {},
     "outputs": [],
     "prompt_number": 5
    },
    {
     "cell_type": "code",
     "collapsed": false,
     "input": [
      "# list all services; for each service: Is it working or not empty? \n",
      "# If so, show the number of variables in the service\n",
      "# Provide total number of variables, across all services\n",
      "total_vars_cnt = 0\n",
      "for k,v in sorted(varinfo_dct.items()):\n",
      "    if v['wofserviceok']:\n",
      "        print k, v['wofserviceok'], len(v['response'])\n",
      "        total_vars_cnt += len(v['response'])\n",
      "    else:\n",
      "        print k, v['wofserviceok']\n",
      "print total_vars_cnt"
     ],
     "language": "python",
     "metadata": {},
     "outputs": [
      {
       "output_type": "stream",
       "stream": "stdout",
       "text": [
        "czo_ariz False\n",
        "czo_boulder True 33\n",
        "czo_calhoun False\n",
        "czo_catalina True 6\n",
        "czo_eel False\n",
        "czo_iml False\n",
        "czo_luquillo True 92\n",
        "czo_merced True 21\n",
        "czo_psu True 60\n",
        "czo_reynolds False\n",
        "czo_udel True 45\n",
        "257\n"
       ]
      }
     ],
     "prompt_number": 6
    },
    {
     "cell_type": "markdown",
     "metadata": {},
     "source": [
      "### Extract variable attributes, to create pandas data frame  \n",
      "- collect and record: czocd, varcd, name, sample_medium, general_category, speciation, value_type, units.abbreviation  \n",
      "- change var name and sample_medium to lower case before storing, to make them uniform  \n",
      "- store into a \"record\" structure, before importing into a pandas DF"
     ]
    },
    {
     "cell_type": "code",
     "collapsed": false,
     "input": [
      "def extract_variable_attributes(czocd, varinfo):\n",
      "    pull_attributes = ['code', 'general_category', 'speciation', 'value_type', 'data_type']\n",
      "    # change var name and sample_medium to lower case before storing, to make them uniform;\n",
      "    # the entries are messy and have variable case\n",
      "    attr = {'czocd':czocd, 'name_lc':varinfo['name'].lower(), \n",
      "            'sample_medium_lc':varinfo['sample_medium'].lower(), \n",
      "            'units_abbrv':varinfo['units']['abbreviation']}\n",
      "    attr.update({pull_att:varinfo[pull_att] for pull_att in pull_attributes})\n",
      "    \n",
      "    return attr"
     ],
     "language": "python",
     "metadata": {},
     "outputs": [],
     "prompt_number": 7
    },
    {
     "cell_type": "code",
     "collapsed": false,
     "input": [
      "# a nested list comprehension is somewhat counter intuitive ...\n",
      "vars_records = [extract_variable_attributes(czocd, var) \n",
      "                for czocd,v in sorted(varinfo_dct.items()) if v['wofserviceok']\n",
      "                for var in v['response'].values()]"
     ],
     "language": "python",
     "metadata": {},
     "outputs": [],
     "prompt_number": 8
    },
    {
     "cell_type": "code",
     "collapsed": false,
     "input": [
      "#sta_0df = pd.DataFrame.from_records(flattenedsta_0, index=['varcd'])\n",
      "varinfo_df = pd.DataFrame.from_records(vars_records)"
     ],
     "language": "python",
     "metadata": {},
     "outputs": [],
     "prompt_number": 9
    },
    {
     "cell_type": "code",
     "collapsed": false,
     "input": [
      "varinfo_df.describe()"
     ],
     "language": "python",
     "metadata": {},
     "outputs": [
      {
       "html": [
        "<div style=\"max-height:1000px;max-width:1500px;overflow:auto;\">\n",
        "<table border=\"1\" class=\"dataframe\">\n",
        "  <thead>\n",
        "    <tr style=\"text-align: right;\">\n",
        "      <th></th>\n",
        "      <th>code</th>\n",
        "      <th>czocd</th>\n",
        "      <th>data_type</th>\n",
        "      <th>general_category</th>\n",
        "      <th>name_lc</th>\n",
        "      <th>sample_medium_lc</th>\n",
        "      <th>speciation</th>\n",
        "      <th>units_abbrv</th>\n",
        "      <th>value_type</th>\n",
        "    </tr>\n",
        "  </thead>\n",
        "  <tbody>\n",
        "    <tr>\n",
        "      <th>count</th>\n",
        "      <td>        257</td>\n",
        "      <td>          257</td>\n",
        "      <td>     257</td>\n",
        "      <td>       257</td>\n",
        "      <td>         257</td>\n",
        "      <td>          257</td>\n",
        "      <td>            257</td>\n",
        "      <td>  257</td>\n",
        "      <td>     257</td>\n",
        "    </tr>\n",
        "    <tr>\n",
        "      <th>unique</th>\n",
        "      <td>        241</td>\n",
        "      <td>            6</td>\n",
        "      <td>      12</td>\n",
        "      <td>         2</td>\n",
        "      <td>          95</td>\n",
        "      <td>            8</td>\n",
        "      <td>             10</td>\n",
        "      <td>   46</td>\n",
        "      <td>       4</td>\n",
        "    </tr>\n",
        "    <tr>\n",
        "      <th>top</th>\n",
        "      <td> Discharge1</td>\n",
        "      <td> czo_luquillo</td>\n",
        "      <td> Average</td>\n",
        "      <td> Hydrology</td>\n",
        "      <td> temperature</td>\n",
        "      <td> not relevant</td>\n",
        "      <td> Not Applicable</td>\n",
        "      <td> mg/L</td>\n",
        "      <td> Unknown</td>\n",
        "    </tr>\n",
        "    <tr>\n",
        "      <th>freq</th>\n",
        "      <td>          3</td>\n",
        "      <td>           92</td>\n",
        "      <td>      85</td>\n",
        "      <td>       226</td>\n",
        "      <td>          19</td>\n",
        "      <td>          128</td>\n",
        "      <td>            232</td>\n",
        "      <td>   35</td>\n",
        "      <td>     139</td>\n",
        "    </tr>\n",
        "  </tbody>\n",
        "</table>\n",
        "<p>4 rows \u00d7 9 columns</p>\n",
        "</div>"
       ],
       "metadata": {},
       "output_type": "pyout",
       "prompt_number": 10,
       "text": [
        "              code         czocd data_type general_category      name_lc  \\\n",
        "count          257           257       257              257          257   \n",
        "unique         241             6        12                2           95   \n",
        "top     Discharge1  czo_luquillo   Average        Hydrology  temperature   \n",
        "freq             3            92        85              226           19   \n",
        "\n",
        "       sample_medium_lc      speciation units_abbrv value_type  \n",
        "count               257             257         257        257  \n",
        "unique                8              10          46          4  \n",
        "top        not relevant  Not Applicable        mg/L    Unknown  \n",
        "freq                128             232          35        139  \n",
        "\n",
        "[4 rows x 9 columns]"
       ]
      }
     ],
     "prompt_number": 10
    },
    {
     "cell_type": "code",
     "collapsed": false,
     "input": [
      "varinfo_df.head()"
     ],
     "language": "python",
     "metadata": {},
     "outputs": [
      {
       "html": [
        "<div style=\"max-height:1000px;max-width:1500px;overflow:auto;\">\n",
        "<table border=\"1\" class=\"dataframe\">\n",
        "  <thead>\n",
        "    <tr style=\"text-align: right;\">\n",
        "      <th></th>\n",
        "      <th>code</th>\n",
        "      <th>czocd</th>\n",
        "      <th>data_type</th>\n",
        "      <th>general_category</th>\n",
        "      <th>name_lc</th>\n",
        "      <th>sample_medium_lc</th>\n",
        "      <th>speciation</th>\n",
        "      <th>units_abbrv</th>\n",
        "      <th>value_type</th>\n",
        "    </tr>\n",
        "  </thead>\n",
        "  <tbody>\n",
        "    <tr>\n",
        "      <th>0</th>\n",
        "      <td>    dissolved_N</td>\n",
        "      <td> czo_boulder</td>\n",
        "      <td> Unknown</td>\n",
        "      <td> Unknown</td>\n",
        "      <td> nitrogen, total dissolved</td>\n",
        "      <td> surface water</td>\n",
        "      <td>              N</td>\n",
        "      <td> umol/L</td>\n",
        "      <td> Field Observation</td>\n",
        "    </tr>\n",
        "    <tr>\n",
        "      <th>1</th>\n",
        "      <td>    inorganic_P</td>\n",
        "      <td> czo_boulder</td>\n",
        "      <td> Unknown</td>\n",
        "      <td> Unknown</td>\n",
        "      <td>     phosphorus, inorganic</td>\n",
        "      <td> surface water</td>\n",
        "      <td>              P</td>\n",
        "      <td> umol/L</td>\n",
        "      <td> Field Observation</td>\n",
        "    </tr>\n",
        "    <tr>\n",
        "      <th>2</th>\n",
        "      <td>        total_P</td>\n",
        "      <td> czo_boulder</td>\n",
        "      <td> Unknown</td>\n",
        "      <td> Unknown</td>\n",
        "      <td>         phosphorus, total</td>\n",
        "      <td> surface water</td>\n",
        "      <td>              P</td>\n",
        "      <td> umol/L</td>\n",
        "      <td> Field Observation</td>\n",
        "    </tr>\n",
        "    <tr>\n",
        "      <th>3</th>\n",
        "      <td> charge_balance</td>\n",
        "      <td> czo_boulder</td>\n",
        "      <td> Unknown</td>\n",
        "      <td> Unknown</td>\n",
        "      <td>            charge balance</td>\n",
        "      <td> surface water</td>\n",
        "      <td> Not Applicable</td>\n",
        "      <td>  ueq/L</td>\n",
        "      <td> Field Observation</td>\n",
        "    </tr>\n",
        "    <tr>\n",
        "      <th>4</th>\n",
        "      <td>        total_N</td>\n",
        "      <td> czo_boulder</td>\n",
        "      <td> Unknown</td>\n",
        "      <td> Unknown</td>\n",
        "      <td>           nitrogen, total</td>\n",
        "      <td> surface water</td>\n",
        "      <td>              N</td>\n",
        "      <td> umol/L</td>\n",
        "      <td> Field Observation</td>\n",
        "    </tr>\n",
        "  </tbody>\n",
        "</table>\n",
        "<p>5 rows \u00d7 9 columns</p>\n",
        "</div>"
       ],
       "metadata": {},
       "output_type": "pyout",
       "prompt_number": 11,
       "text": [
        "             code        czocd data_type general_category  \\\n",
        "0     dissolved_N  czo_boulder   Unknown          Unknown   \n",
        "1     inorganic_P  czo_boulder   Unknown          Unknown   \n",
        "2         total_P  czo_boulder   Unknown          Unknown   \n",
        "3  charge_balance  czo_boulder   Unknown          Unknown   \n",
        "4         total_N  czo_boulder   Unknown          Unknown   \n",
        "\n",
        "                     name_lc sample_medium_lc      speciation units_abbrv  \\\n",
        "0  nitrogen, total dissolved    surface water               N      umol/L   \n",
        "1      phosphorus, inorganic    surface water               P      umol/L   \n",
        "2          phosphorus, total    surface water               P      umol/L   \n",
        "3             charge balance    surface water  Not Applicable       ueq/L   \n",
        "4            nitrogen, total    surface water               N      umol/L   \n",
        "\n",
        "          value_type  \n",
        "0  Field Observation  \n",
        "1  Field Observation  \n",
        "2  Field Observation  \n",
        "3  Field Observation  \n",
        "4  Field Observation  \n",
        "\n",
        "[5 rows x 9 columns]"
       ]
      }
     ],
     "prompt_number": 11
    },
    {
     "cell_type": "markdown",
     "metadata": {},
     "source": [
      "#### Show some summaries for attributes"
     ]
    },
    {
     "cell_type": "code",
     "collapsed": false,
     "input": [
      "varinfo_df.czocd.value_counts()"
     ],
     "language": "python",
     "metadata": {},
     "outputs": [
      {
       "metadata": {},
       "output_type": "pyout",
       "prompt_number": 12,
       "text": [
        "czo_luquillo    92\n",
        "czo_psu         60\n",
        "czo_udel        45\n",
        "czo_boulder     33\n",
        "czo_merced      21\n",
        "czo_catalina     6\n",
        "dtype: int64"
       ]
      }
     ],
     "prompt_number": 12
    },
    {
     "cell_type": "code",
     "collapsed": false,
     "input": [
      "varinfo_df.general_category.value_counts()"
     ],
     "language": "python",
     "metadata": {},
     "outputs": [
      {
       "metadata": {},
       "output_type": "pyout",
       "prompt_number": 13,
       "text": [
        "Hydrology    226\n",
        "Unknown       31\n",
        "dtype: int64"
       ]
      }
     ],
     "prompt_number": 13
    },
    {
     "cell_type": "code",
     "collapsed": false,
     "input": [
      "varinfo_df.sample_medium_lc.value_counts()"
     ],
     "language": "python",
     "metadata": {},
     "outputs": [
      {
       "metadata": {},
       "output_type": "pyout",
       "prompt_number": 14,
       "text": [
        "not relevant     128\n",
        "surface water     81\n",
        "air               31\n",
        "soil               8\n",
        "other              3\n",
        "snow               3\n",
        "precipitation      2\n",
        "groundwater        1\n",
        "dtype: int64"
       ]
      }
     ],
     "prompt_number": 14
    },
    {
     "cell_type": "code",
     "collapsed": false,
     "input": [
      "varinfo_df.value_type.value_counts()"
     ],
     "language": "python",
     "metadata": {},
     "outputs": [
      {
       "metadata": {},
       "output_type": "pyout",
       "prompt_number": 15,
       "text": [
        "Unknown              139\n",
        "Field Observation     63\n",
        "Sample                38\n",
        "Derived Value         17\n",
        "dtype: int64"
       ]
      }
     ],
     "prompt_number": 15
    },
    {
     "cell_type": "code",
     "collapsed": false,
     "input": [
      "varinfo_df.data_type.value_counts()"
     ],
     "language": "python",
     "metadata": {},
     "outputs": [
      {
       "metadata": {},
       "output_type": "pyout",
       "prompt_number": 16,
       "text": [
        "Average                   85\n",
        "Unknown                   57\n",
        "Sporadic                  46\n",
        "Continuous                21\n",
        "StandardDeviation         16\n",
        "Minimum                    8\n",
        "Cumulative                 7\n",
        "Maximum                    6\n",
        "average                    5\n",
        "Incremental                3\n",
        "Constant Over Interval     2\n",
        "Variance                   1\n",
        "dtype: int64"
       ]
      }
     ],
     "prompt_number": 16
    },
    {
     "cell_type": "code",
     "collapsed": false,
     "input": [
      "varinfo_df.speciation.value_counts()"
     ],
     "language": "python",
     "metadata": {},
     "outputs": [
      {
       "metadata": {},
       "output_type": "pyout",
       "prompt_number": 17,
       "text": [
        "Not Applicable    232\n",
        "Unknown             7\n",
        "P                   5\n",
        "N                   5\n",
        "C                   3\n",
        "NO3                 1\n",
        "SO4                 1\n",
        "Si                  1\n",
        "PO4                 1\n",
        "NH4                 1\n",
        "dtype: int64"
       ]
      }
     ],
     "prompt_number": 17
    },
    {
     "cell_type": "code",
     "collapsed": false,
     "input": [
      "varinfo_df.code.value_counts()"
     ],
     "language": "python",
     "metadata": {},
     "outputs": [
      {
       "metadata": {},
       "output_type": "pyout",
       "prompt_number": 18,
       "text": [
        "Precipitation1             3\n",
        "Discharge4                 3\n",
        "Discharge1                 3\n",
        "Temperature5               2\n",
        "Temperature2               2\n",
        "Temperature7               2\n",
        "Volumetricwatercontent1    2\n",
        "Precipitation5             2\n",
        "Discharge3                 2\n",
        "Silica18                   2\n",
        "Streamflow6                2\n",
        "Distance6                  2\n",
        "Windspeed10                2\n",
        "PO4___                     1\n",
        "pH14                       1\n",
        "...\n",
        "Si                            1\n",
        "Deuterium3                    1\n",
        "Chloride27                    1\n",
        "Windspeed7                    1\n",
        "Dissolved_Organic_Carbon      1\n",
        "particulate_P                 1\n",
        "VolumetricWaterContent1       1\n",
        "anion_sum                     1\n",
        "Windspeed8                    1\n",
        "Ironferric18                  1\n",
        "Nitrogendissolvedorganic19    1\n",
        "Sodium8                       1\n",
        "temperature2                  1\n",
        "Cl_                           1\n",
        "dissolved_organic_N           1\n",
        "Length: 241, dtype: int64"
       ]
      }
     ],
     "prompt_number": 18
    },
    {
     "cell_type": "code",
     "collapsed": false,
     "input": [
      "name_lc_unique_dct = dict(varinfo_df.name_lc.value_counts())\n",
      "len(name_lc_unique_dct), name_lc_unique_dct"
     ],
     "language": "python",
     "metadata": {},
     "outputs": [
      {
       "metadata": {},
       "output_type": "pyout",
       "prompt_number": 19,
       "text": [
        "(95,\n",
        " {'acid neutralizing capacity': 1,\n",
        "  'albedo': 1,\n",
        "  'alkalinity, bicarbonate': 1,\n",
        "  'alkalinity, total': 2,\n",
        "  'aluminum': 2,\n",
        "  'anion sum': 1,\n",
        "  'barometric pressure': 1,\n",
        "  'battery voltage': 3,\n",
        "  'bulk density': 1,\n",
        "  'bulk electrical conductivity': 3,\n",
        "  'calcium': 5,\n",
        "  'carbon dioxide': 2,\n",
        "  'carbon dioxide flux': 1,\n",
        "  'carbon, dissolved inorganic': 1,\n",
        "  'carbon, dissolved organic': 4,\n",
        "  'carbon, organic particulate': 1,\n",
        "  'carbon, total organic': 1,\n",
        "  'cation sum': 1,\n",
        "  'charge balance': 1,\n",
        "  'chloride': 5,\n",
        "  'chlorophyll a, corrected for pheophytin': 1,\n",
        "  'container number': 1,\n",
        "  'deuterium': 2,\n",
        "  'discharge': 10,\n",
        "  'distance': 2,\n",
        "  'electrical conductivity': 3,\n",
        "  'exchangeable acidity': 1,\n",
        "  'fluoride': 1,\n",
        "  'friction velocity': 1,\n",
        "  'gage height': 3,\n",
        "  'hydron': 1,\n",
        "  'imaginary dielectric constant': 1,\n",
        "  'ionized ammonium': 1,\n",
        "  'iron, ferric': 1,\n",
        "  'latent heat flux': 1,\n",
        "  'latitude': 1,\n",
        "  'leaf wetness': 1,\n",
        "  'longitude': 1,\n",
        "  'magnesium': 5,\n",
        "  'manganese': 1,\n",
        "  'nitrogen, dissolved organic': 2,\n",
        "  'nitrogen, inorganic': 2,\n",
        "  'nitrogen, nh4': 3,\n",
        "  'nitrogen, nitrate (no3)': 5,\n",
        "  'nitrogen, nitrite (no2)': 2,\n",
        "  'nitrogen, organic': 2,\n",
        "  'nitrogen, particulate organic': 1,\n",
        "  'nitrogen, total': 1,\n",
        "  'nitrogen, total dissolved': 2,\n",
        "  'nitrogen, total kjeldahl': 2,\n",
        "  'oxygen-18': 3,\n",
        "  'ozone': 5,\n",
        "  'ph': 4,\n",
        "  'pheophytin': 1,\n",
        "  'phosphorus, dissolved organic': 1,\n",
        "  'phosphorus, inorganic': 1,\n",
        "  'phosphorus, organic': 1,\n",
        "  'phosphorus, particulate': 1,\n",
        "  'phosphorus, phosphate (po4)': 5,\n",
        "  'phosphorus, total': 3,\n",
        "  'phosphorus, total dissolved': 5,\n",
        "  'potassium': 5,\n",
        "  'precipitation': 11,\n",
        "  'radiation, incoming': 1,\n",
        "  'radiation, incoming par': 4,\n",
        "  'radiation, incoming shortwave': 4,\n",
        "  'radiation, net': 5,\n",
        "  'radiation, net par': 2,\n",
        "  'radiation, outgoing par': 1,\n",
        "  'radiation, outgoing shortwave': 3,\n",
        "  'real dielectric constant': 1,\n",
        "  'recorder code': 1,\n",
        "  'relative humidity': 9,\n",
        "  'sensible heat flux': 1,\n",
        "  'silica': 3,\n",
        "  'silicon': 2,\n",
        "  'snow depth': 3,\n",
        "  'snow water equivalent': 1,\n",
        "  'sodium': 5,\n",
        "  'soil organic matter': 1,\n",
        "  'solids, total suspended': 1,\n",
        "  'specific conductance': 1,\n",
        "  'streamflow': 3,\n",
        "  'sulfate': 5,\n",
        "  'temperature': 19,\n",
        "  'temperature, dew point': 1,\n",
        "  'voltage': 2,\n",
        "  'volumetric water content': 8,\n",
        "  'water depth': 2,\n",
        "  'water level': 2,\n",
        "  'water potential': 1,\n",
        "  'water vapor concentration': 1,\n",
        "  'wind direction': 8,\n",
        "  'wind speed': 10,\n",
        "  'zinc': 1})"
       ]
      }
     ],
     "prompt_number": 19
    },
    {
     "cell_type": "code",
     "collapsed": false,
     "input": [
      "#varinfo_df.to_clipboard(sep=\"\\t\")"
     ],
     "language": "python",
     "metadata": {},
     "outputs": [],
     "prompt_number": 20
    },
    {
     "cell_type": "code",
     "collapsed": false,
     "input": [],
     "language": "python",
     "metadata": {},
     "outputs": []
    }
   ],
   "metadata": {}
  }
 ]
}
